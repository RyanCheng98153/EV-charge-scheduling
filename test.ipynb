{
 "cells": [
  {
   "cell_type": "code",
   "execution_count": 13,
   "metadata": {},
   "outputs": [],
   "source": [
    "class Test:\n",
    "    share = 1\n",
    "    def __init__(self) -> None:\n",
    "        self.id = self.__class__.share\n",
    "        self.__class__.share += 1\n",
    "        pass\n",
    "    \n",
    "test1 = Test()\n",
    "test2 = Test()\n",
    "test3 = Test()"
   ]
  },
  {
   "cell_type": "code",
   "execution_count": 14,
   "metadata": {},
   "outputs": [
    {
     "name": "stdout",
     "output_type": "stream",
     "text": [
      "test1: 1\n",
      "test2: 2\n",
      "test3: 3\n"
     ]
    }
   ],
   "source": [
    "print(f\"test1: {test1.id}\")\n",
    "print(f\"test2: {test2.id}\")\n",
    "print(f\"test3: {test3.id}\")"
   ]
  },
  {
   "cell_type": "code",
   "execution_count": 15,
   "metadata": {},
   "outputs": [
    {
     "name": "stdout",
     "output_type": "stream",
     "text": [
      "v1: 11000.0\n",
      "v2: 20000\n"
     ]
    }
   ],
   "source": [
    "from src.vehicle import Vehicle\n",
    "\n",
    "v1 = Vehicle(1, 20000, 1500, 20000 )\n",
    "v2 = Vehicle(2, 40000, 2000, 20000 )\n",
    "\n",
    "v1.travel(10)\n",
    "print(f\"v1: {v1.remain_energy}\")\n",
    "print(f\"v2: {v2.remain_energy}\")"
   ]
  },
  {
   "cell_type": "code",
   "execution_count": 16,
   "metadata": {},
   "outputs": [
    {
     "name": "stdout",
     "output_type": "stream",
     "text": [
      "v1: 17000.0\n",
      "v2: 20000\n",
      "v1: 17100.0\n",
      "v2: 20000\n"
     ]
    }
   ],
   "source": [
    "from src.station import Station\n",
    "station1 = Station(1, 100000, 1000)\n",
    "station1.chargeVehicle(v1, 0, 6000)\n",
    "print(f\"v1: {v1.remain_energy}\")\n",
    "print(f\"v2: {v2.remain_energy}\")\n",
    "\n",
    "v1.chargeBattery(100)\n",
    "print(f\"v1: {v1.remain_energy}\")\n",
    "print(f\"v2: {v2.remain_energy}\")"
   ]
  }
 ],
 "metadata": {
  "kernelspec": {
   "display_name": "Python 3",
   "language": "python",
   "name": "python3"
  },
  "language_info": {
   "codemirror_mode": {
    "name": "ipython",
    "version": 3
   },
   "file_extension": ".py",
   "mimetype": "text/x-python",
   "name": "python",
   "nbconvert_exporter": "python",
   "pygments_lexer": "ipython3",
   "version": "3.10.11"
  }
 },
 "nbformat": 4,
 "nbformat_minor": 2
}
