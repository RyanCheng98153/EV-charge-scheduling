{
 "cells": [
  {
   "cell_type": "code",
   "execution_count": 37,
   "metadata": {},
   "outputs": [],
   "source": [
    "# Total time slots\n",
    "TOTAL_TIMESLOT = 672\n",
    "NIGHT_ENERGY_PRICE = 1.0 # test price\n",
    "PRICE_RATIO = 0.5\n",
    "HEALTH_SOC = [0.2, 0.8]\n",
    "HEALTH_DEGRADATION = 1\n",
    "\n",
    "# def __init__(self) -> None:\n",
    "''' timeslots\n",
    "1 quarter hour = 15 minutes\n",
    "1 week = 7 (days) * 24 (hours) = 168 hours\n",
    "168 hours = 672 quarter hours\n",
    "'''\n",
    "\n",
    "class Vehicle:\n",
    "    def __init__(self) -> None:\n",
    "        self.soc: float = 0\n",
    "    \n",
    "    def chargeEnergy(self, _energy:float ) -> float :\n",
    "        self.soc += _energy\n",
    "        \n",
    "\n",
    "def getChargePrice (_vehicle: Vehicle, _time:float) -> float:\n",
    "    '''\n",
    "    9 <= (t mod 24) < 24 => Day Price (price_E * Ratio)\n",
    "    otherwise => Night Price (price_E)\n",
    "    '''\n",
    "    price = NIGHT_ENERGY_PRICE * (_vehicle.soc)\n",
    "    \n",
    "    # night price\n",
    "    if _time % 24 < 9:\n",
    "        return price\n",
    "    # day price\n",
    "    return price * PRICE_RATIO # test ratio\n",
    "\n",
    "@staticmethod\n",
    "def getVehicleValue (_vehicle: int):\n",
    "    return NotImplemented\n",
    "\n",
    "def getDegradation(_chargeEnergy: float, _SOC:float) -> float:\n",
    "    '''energy = SOC'''\n",
    "    minHealthSOC, maxHealthSOC = HEALTH_SOC\n",
    "    # health charge\n",
    "    if _SOC >= minHealthSOC and _SOC <= maxHealthSOC:\n",
    "        return HEALTH_DEGRADATION\n",
    "    # unhealth charge\n",
    "    return 2 * HEALTH_DEGRADATION\n",
    "    \n",
    "    \n",
    "    \n",
    "    "
   ]
  },
  {
   "cell_type": "code",
   "execution_count": null,
   "metadata": {},
   "outputs": [],
   "source": []
  }
 ],
 "metadata": {
  "kernelspec": {
   "display_name": "Python 3",
   "language": "python",
   "name": "python3"
  },
  "language_info": {
   "codemirror_mode": {
    "name": "ipython",
    "version": 3
   },
   "file_extension": ".py",
   "mimetype": "text/x-python",
   "name": "python",
   "nbconvert_exporter": "python",
   "pygments_lexer": "ipython3",
   "version": "3.10.11"
  }
 },
 "nbformat": 4,
 "nbformat_minor": 2
}
