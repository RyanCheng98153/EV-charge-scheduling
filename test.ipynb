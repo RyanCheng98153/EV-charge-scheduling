{
 "cells": [
  {
   "cell_type": "code",
   "execution_count": 3,
   "metadata": {},
   "outputs": [],
   "source": [
    "class Test:\n",
    "    share = 1\n",
    "    def __init__(self) -> None:\n",
    "        self.id = self.__class__.share\n",
    "        self.__class__.share += 1\n",
    "        pass\n",
    "    \n",
    "test1 = Test()\n",
    "test2 = Test()\n",
    "test3 = Test()"
   ]
  },
  {
   "cell_type": "code",
   "execution_count": 4,
   "metadata": {},
   "outputs": [
    {
     "name": "stdout",
     "output_type": "stream",
     "text": [
      "test1: 1\n",
      "test2: 2\n",
      "test3: 3\n"
     ]
    }
   ],
   "source": [
    "print(f\"test1: {test1.id}\")\n",
    "print(f\"test2: {test2.id}\")\n",
    "print(f\"test3: {test3.id}\")"
   ]
  },
  {
   "cell_type": "code",
   "execution_count": 5,
   "metadata": {},
   "outputs": [
    {
     "name": "stdout",
     "output_type": "stream",
     "text": [
      "v1: 11000.0\n",
      "v2: 20000\n"
     ]
    }
   ],
   "source": [
    "from src.vehicle import Vehicle\n",
    "\n",
    "v1 = Vehicle(1, 20000, 1500, 20000 )\n",
    "v2 = Vehicle(2, 40000, 2000, 20000 )\n",
    "\n",
    "v1.travel(10)\n",
    "print(f\"v1: {v1.remain_energy}\")\n",
    "print(f\"v2: {v2.remain_energy}\")"
   ]
  },
  {
   "cell_type": "code",
   "execution_count": 6,
   "metadata": {},
   "outputs": [
    {
     "name": "stdout",
     "output_type": "stream",
     "text": [
      "v1: 17000.0\n",
      "v2: 20000\n",
      "v1: 17100.0\n",
      "v2: 20000\n"
     ]
    }
   ],
   "source": [
    "from src.station import Station\n",
    "station1 = Station(1, 100000, 1000)\n",
    "station1.chargeVehicle(v1, 0, 6000)\n",
    "print(f\"v1: {v1.remain_energy}\")\n",
    "print(f\"v2: {v2.remain_energy}\")\n",
    "\n",
    "v1.chargeBattery(100)\n",
    "print(f\"v1: {v1.remain_energy}\")\n",
    "print(f\"v2: {v2.remain_energy}\")"
   ]
  },
  {
   "cell_type": "code",
   "execution_count": 1,
   "metadata": {},
   "outputs": [],
   "source": [
    "from src.scheduler import Scheduler, Schedule\n",
    "from src.vehicle import Vehicle\n",
    "\n",
    "scheduler = Scheduler()\n",
    "scheduler.setVehicles([\n",
    "    Vehicle('bmw', 100000, 1000, 100000),\n",
    "    Vehicle('ford', 20000, 200, 20000),\n",
    "    Vehicle('honda', 34567, 345, 34567),\n",
    "    Vehicle('nissan', 50000, 500, 50000),\n",
    "])\n",
    "scheduler.setSchedules([\n",
    "    Schedule(0, 30, 'bmw', 10),\n",
    "    Schedule(50, 80, 'bmw', 10),\n",
    "    Schedule(20, 65, 'ford', 12),\n",
    "    Schedule(20, 70, 'nissan', 25),\n",
    "    Schedule(0, 20, 'honda', 6),\n",
    "    Schedule(40, 80, 'honda', 15),\n",
    "])\n",
    "\n",
    "scheduler.CreateActionTable()"
   ]
  },
  {
   "cell_type": "code",
   "execution_count": 3,
   "metadata": {},
   "outputs": [
    {
     "name": "stdout",
     "output_type": "stream",
     "text": [
      "start: 0, end: 30, vehicle: bmw, distance: 10\n",
      "start: 50, end: 80, vehicle: bmw, distance: 10\n",
      "start: 20, end: 65, vehicle: ford, distance: 12\n",
      "start: 20, end: 70, vehicle: nissan, distance: 25\n",
      "start: 0, end: 20, vehicle: honda, distance: 6\n",
      "start: 40, end: 80, vehicle: honda, distance: 15\n",
      "time: 0,\t vehicle_id: bmw,\t distance: -1\n",
      "time: 0,\t vehicle_id: honda,\t distance: -1\n",
      "time: 20,\t vehicle_id: ford,\t distance: -1\n",
      "time: 20,\t vehicle_id: nissan,\t distance: -1\n",
      "time: 20,\t vehicle_id: honda,\t distance: 6\n",
      "time: 30,\t vehicle_id: bmw,\t distance: 10\n",
      "time: 40,\t vehicle_id: honda,\t distance: -1\n",
      "time: 50,\t vehicle_id: bmw,\t distance: -1\n",
      "time: 65,\t vehicle_id: ford,\t distance: 12\n",
      "time: 70,\t vehicle_id: nissan,\t distance: 25\n",
      "time: 80,\t vehicle_id: bmw,\t distance: 10\n",
      "time: 80,\t vehicle_id: honda,\t distance: 15\n",
      "[{'time': 0, 'vehicle_id': 'bmw', 'distance': -1}, {'time': 0, 'vehicle_id': 'honda', 'distance': -1}, {'time': 20, 'vehicle_id': 'ford', 'distance': -1}, {'time': 20, 'vehicle_id': 'nissan', 'distance': -1}, {'time': 20, 'vehicle_id': 'honda', 'distance': 6}, {'time': 30, 'vehicle_id': 'bmw', 'distance': 10}, {'time': 40, 'vehicle_id': 'honda', 'distance': -1}, {'time': 50, 'vehicle_id': 'bmw', 'distance': -1}, {'time': 65, 'vehicle_id': 'ford', 'distance': 12}, {'time': 70, 'vehicle_id': 'nissan', 'distance': 25}, {'time': 80, 'vehicle_id': 'bmw', 'distance': 10}, {'time': 80, 'vehicle_id': 'honda', 'distance': 15}]\n",
      "[<src.scheduler.Schedule object at 0x0000022AFEDBA950>, <src.scheduler.Schedule object at 0x0000022AFEDBA980>, <src.scheduler.Schedule object at 0x0000022AFEDB87C0>, <src.scheduler.Schedule object at 0x0000022AFEDB9C60>, <src.scheduler.Schedule object at 0x0000022AFEDBAE60>, <src.scheduler.Schedule object at 0x0000022AFEDB9D20>]\n"
     ]
    }
   ],
   "source": [
    "scheduler.PrintScheduleTable()\n",
    "scheduler.PrintActionTable()\n",
    "print(scheduler.action_table)\n",
    "print(scheduler.schedule_table)"
   ]
  },
  {
   "cell_type": "code",
   "execution_count": 4,
   "metadata": {},
   "outputs": [],
   "source": [
    "cost = 0\n",
    "for action in scheduler.action_list:\n",
    "    if action['distance'] == -1:\n",
    "        srcVehicle = [vehicle for vehicle in scheduler.vehicles if vehicle.ID == action['vehicle_id']]\n",
    "        scheduler.vehicles"
   ]
  },
  {
   "cell_type": "code",
   "execution_count": null,
   "metadata": {},
   "outputs": [],
   "source": []
  },
  {
   "cell_type": "code",
   "execution_count": null,
   "metadata": {},
   "outputs": [],
   "source": []
  }
 ],
 "metadata": {
  "kernelspec": {
   "display_name": "Python 3",
   "language": "python",
   "name": "python3"
  },
  "language_info": {
   "codemirror_mode": {
    "name": "ipython",
    "version": 3
   },
   "file_extension": ".py",
   "mimetype": "text/x-python",
   "name": "python",
   "nbconvert_exporter": "python",
   "pygments_lexer": "ipython3",
   "version": "3.10.11"
  }
 },
 "nbformat": 4,
 "nbformat_minor": 2
}
