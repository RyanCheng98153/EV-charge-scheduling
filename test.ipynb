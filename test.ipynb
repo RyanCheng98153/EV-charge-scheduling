{
 "cells": [
  {
   "cell_type": "code",
   "execution_count": 5,
   "metadata": {},
   "outputs": [],
   "source": [
    "x:int = NotImplemented"
   ]
  },
  {
   "cell_type": "code",
   "execution_count": 7,
   "metadata": {},
   "outputs": [
    {
     "name": "stdout",
     "output_type": "stream",
     "text": [
      "NotImplemented\n",
      "<class 'NotImplementedType'>\n"
     ]
    }
   ],
   "source": [
    "print(x)\n",
    "print(type(x))"
   ]
  },
  {
   "cell_type": "code",
   "execution_count": null,
   "metadata": {},
   "outputs": [],
   "source": [
    "''' timeslots\n",
    "1 quarter hour = 15 minutes\n",
    "1 week = 7 (days) * 24 (hours) = 168 hours\n",
    "168 hours = 672 quarter hours\n",
    "'''\n",
    "# Total time slots\n",
    "TOTAL_TIMESLOT = 672\n",
    "NIGHT_ENERGY_PRICE = 1 # test price"
   ]
  },
  {
   "cell_type": "code",
   "execution_count": 26,
   "metadata": {},
   "outputs": [],
   "source": [
    "class Config:\n",
    "    def __init__(self) -> None:\n",
    "        self.vehicle = 1\n",
    "        self.time = 1\n",
    "    \n",
    "    @staticmethod\n",
    "    def getEvtEnergy (_vehicle: int, _time:int) -> float:\n",
    "        return NotImplemented\n",
    "    \n",
    "    @staticmethod\n",
    "    def getPriceRatio (_time:int) -> float:\n",
    "        '''\n",
    "        9 <= (t mod 24) < 24 => Day Price (price_E * Ratio)\n",
    "        otherwise => Night Price (price_E)\n",
    "        '''\n",
    "        if _time % 24 < 9:\n",
    "            return 1.0\n",
    "        return 0.5 # test ratio\n",
    "        \n",
    "    \n",
    "    "
   ]
  },
  {
   "cell_type": "code",
   "execution_count": 27,
   "metadata": {},
   "outputs": [
    {
     "data": {
      "text/plain": [
       "NotImplemented"
      ]
     },
     "execution_count": 27,
     "metadata": {},
     "output_type": "execute_result"
    }
   ],
   "source": [
    "config = Config()\n",
    "Config.getEvtEnergy(config.vehicle, config.time)"
   ]
  },
  {
   "cell_type": "code",
   "execution_count": null,
   "metadata": {},
   "outputs": [],
   "source": []
  }
 ],
 "metadata": {
  "kernelspec": {
   "display_name": "Python 3",
   "language": "python",
   "name": "python3"
  },
  "language_info": {
   "codemirror_mode": {
    "name": "ipython",
    "version": 3
   },
   "file_extension": ".py",
   "mimetype": "text/x-python",
   "name": "python",
   "nbconvert_exporter": "python",
   "pygments_lexer": "ipython3",
   "version": "3.10.11"
  }
 },
 "nbformat": 4,
 "nbformat_minor": 2
}
