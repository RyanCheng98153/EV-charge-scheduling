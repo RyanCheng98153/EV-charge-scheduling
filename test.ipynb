{
 "cells": [
  {
   "cell_type": "code",
   "execution_count": 7,
   "metadata": {},
   "outputs": [],
   "source": [
    "class Test:\n",
    "    share = 999\n",
    "    def __init__(self, _share) -> None:\n",
    "        self.__class__.share = _share\n",
    "        pass\n",
    "    \n",
    "    def printShare(self):\n",
    "        return(self.__class__.share)"
   ]
  },
  {
   "cell_type": "code",
   "execution_count": 8,
   "metadata": {},
   "outputs": [
    {
     "name": "stdout",
     "output_type": "stream",
     "text": [
      "test1: 1\n"
     ]
    }
   ],
   "source": [
    "test1 = Test(1)\n",
    "print(f\"test1: {test1.printShare()}\")"
   ]
  },
  {
   "cell_type": "code",
   "execution_count": 9,
   "metadata": {},
   "outputs": [
    {
     "name": "stdout",
     "output_type": "stream",
     "text": [
      "test1: 2\n",
      "test2: 2\n"
     ]
    }
   ],
   "source": [
    "test2 = Test(2)\n",
    "print(f\"test1: {test1.printShare()}\")\n",
    "print(f\"test2: {test2.printShare()}\")"
   ]
  },
  {
   "cell_type": "code",
   "execution_count": null,
   "metadata": {},
   "outputs": [],
   "source": [
    "test2 = Test(3)\n",
    "print(f\"test1: {test1.printShare()}\")\n",
    "print(f\"test2: {test2.printShare()}\")"
   ]
  },
  {
   "cell_type": "code",
   "execution_count": 10,
   "metadata": {},
   "outputs": [
    {
     "name": "stdout",
     "output_type": "stream",
     "text": [
      "test1: 5\n",
      "test2: 5\n"
     ]
    }
   ],
   "source": [
    "Test.share = 5\n",
    "print(f\"test1: {test1.printShare()}\")\n",
    "print(f\"test2: {test2.printShare()}\")"
   ]
  },
  {
   "cell_type": "code",
   "execution_count": null,
   "metadata": {},
   "outputs": [],
   "source": []
  }
 ],
 "metadata": {
  "kernelspec": {
   "display_name": "Python 3",
   "language": "python",
   "name": "python3"
  },
  "language_info": {
   "codemirror_mode": {
    "name": "ipython",
    "version": 3
   },
   "file_extension": ".py",
   "mimetype": "text/x-python",
   "name": "python",
   "nbconvert_exporter": "python",
   "pygments_lexer": "ipython3",
   "version": "3.10.11"
  }
 },
 "nbformat": 4,
 "nbformat_minor": 2
}
