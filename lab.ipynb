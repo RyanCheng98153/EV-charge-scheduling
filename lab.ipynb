{
 "cells": [
  {
   "cell_type": "code",
   "execution_count": 1,
   "metadata": {},
   "outputs": [
    {
     "name": "stdout",
     "output_type": "stream",
     "text": [
      "<class 'dict'>\n"
     ]
    }
   ],
   "source": [
    "from src.scheduler import Scheduler, Schedule\n",
    "from src.vehicle import Vehicle\n",
    "from src.station import Station\n",
    "\n",
    "scheduler = Scheduler()\n",
    "scheduler.setVehicles([\n",
    "    Vehicle('bmw', 100000, 1000, 100000),\n",
    "    Vehicle('ford', 20000, 200, 20000),\n",
    "    Vehicle('honda', 30000, 300, 30000),\n",
    "    Vehicle('toyato', 40000, 400, 40000),\n",
    "    Vehicle('nissan', 50000, 500, 50000),\n",
    "])\n",
    "scheduler.setStations([\n",
    "    Station('s1', 100000, 10),\n",
    "    Station('s2', 200000, 20),\n",
    "    Station('s3', 300000, 30),\n",
    "])\n",
    "scheduler.setSchedules([\n",
    "    Schedule(0, 30, 'bmw', 10),\n",
    "    Schedule(70, 110, 'bmw', 10),\n",
    "    Schedule(20, 65, 'ford', 12),\n",
    "    Schedule(0, 40, 'toyato', 20),\n",
    "    Schedule(60, 75, 'toyato', 8),\n",
    "    Schedule(90, 105, 'toyato', 6),\n",
    "    Schedule(0, 20, 'honda', 6),\n",
    "    Schedule(40, 80, 'honda', 15),\n",
    "    Schedule(20, 70, 'nissan', 25),\n",
    "])\n",
    "\n"
   ]
  },
  {
   "cell_type": "code",
   "execution_count": 2,
   "metadata": {},
   "outputs": [
    {
     "name": "stdout",
     "output_type": "stream",
     "text": [
      "[Schedule Table]\n",
      "start: 0     end: 20    vehicle: honda      distance: 6        finished: False\n",
      "start: 0     end: 30    vehicle: bmw        distance: 10       finished: False\n",
      "start: 0     end: 40    vehicle: toyato     distance: 20       finished: False\n",
      "start: 20    end: 65    vehicle: ford       distance: 12       finished: False\n",
      "start: 20    end: 70    vehicle: nissan     distance: 25       finished: False\n",
      "start: 40    end: 80    vehicle: honda      distance: 15       finished: False\n",
      "start: 60    end: 75    vehicle: toyato     distance: 8        finished: False\n",
      "start: 70    end: 110   vehicle: bmw        distance: 10       finished: False\n",
      "start: 90    end: 105   vehicle: toyato     distance: 6        finished: False\n",
      "\n",
      "[Action Table]\n",
      "Time: 0     Vehicle: honda    Action START   distance: 6    finished: False\n",
      "Time: 0     Vehicle: bmw      Action START   distance: 10   finished: False\n",
      "Time: 0     Vehicle: toyato   Action START   distance: 20   finished: False\n",
      "Time: 20    Vehicle: honda    Action END    \n",
      "Time: 20    Vehicle: ford     Action START   distance: 12   finished: False\n",
      "Time: 20    Vehicle: nissan   Action START   distance: 25   finished: False\n",
      "Time: 30    Vehicle: bmw      Action END    \n",
      "Time: 40    Vehicle: toyato   Action END    \n",
      "Time: 40    Vehicle: honda    Action START   distance: 15   finished: False\n",
      "Time: 60    Vehicle: toyato   Action START   distance: 8    finished: False\n",
      "Time: 65    Vehicle: ford     Action END    \n",
      "Time: 70    Vehicle: nissan   Action END    \n",
      "Time: 70    Vehicle: bmw      Action START   distance: 10   finished: False\n",
      "Time: 75    Vehicle: toyato   Action END    \n",
      "Time: 80    Vehicle: honda    Action END    \n",
      "Time: 90    Vehicle: toyato   Action START   distance: 6    finished: False\n",
      "Time: 105   Vehicle: toyato   Action END    \n",
      "Time: 110   Vehicle: bmw      Action END    \n",
      "\n"
     ]
    }
   ],
   "source": [
    "scheduler.printScheduleTable()\n",
    "scheduler.createActionTable()\n",
    "scheduler.printActionTable()\n",
    "\n",
    "\n",
    "# print(scheduler.schedule_table)\n",
    "# for action in scheduler.action_table:\n",
    "#     print(action)\n",
    "# print(scheduler.action_table)"
   ]
  },
  {
   "cell_type": "code",
   "execution_count": 3,
   "metadata": {},
   "outputs": [
    {
     "name": "stdout",
     "output_type": "stream",
     "text": [
      "vehicle: bmw      state: IDLE       idle time: 0        battery: 100000   / 100000   (soc: 100)\n",
      "vehicle: ford     state: IDLE       idle time: 0        battery: 20000    / 20000    (soc: 100)\n",
      "vehicle: honda    state: IDLE       idle time: 0        battery: 30000    / 30000    (soc: 100)\n",
      "vehicle: toyato   state: IDLE       idle time: 0        battery: 40000    / 40000    (soc: 100)\n",
      "vehicle: nissan   state: IDLE       idle time: 0        battery: 50000    / 50000    (soc: 100)\n"
     ]
    }
   ],
   "source": [
    "for vehicle in scheduler.vehicles.values():\n",
    "    vehicle.printVehicleInfo()"
   ]
  },
  {
   "cell_type": "code",
   "execution_count": 4,
   "metadata": {},
   "outputs": [
    {
     "name": "stdout",
     "output_type": "stream",
     "text": [
      "[Vehicle]\n",
      "vehicle: bmw      state: IDLE       idle time: 0        battery: 100000   / 100000   (soc: 100)\n",
      "vehicle: ford     state: IDLE       idle time: 0        battery: 20000    / 20000    (soc: 100)\n",
      "vehicle: honda    state: IDLE       idle time: 0        battery: 30000    / 30000    (soc: 100)\n",
      "vehicle: toyato   state: IDLE       idle time: 0        battery: 40000    / 40000    (soc: 100)\n",
      "vehicle: nissan   state: IDLE       idle time: 0        battery: 50000    / 50000    (soc: 100)\n",
      "\n"
     ]
    },
    {
     "ename": "TypeError",
     "evalue": "'Action' object is not subscriptable",
     "output_type": "error",
     "traceback": [
      "\u001b[1;31m---------------------------------------------------------------------------\u001b[0m",
      "\u001b[1;31mTypeError\u001b[0m                                 Traceback (most recent call last)",
      "Cell \u001b[1;32mIn[4], line 5\u001b[0m\n\u001b[0;32m      3\u001b[0m cost \u001b[38;5;241m=\u001b[39m \u001b[38;5;241m0\u001b[39m\n\u001b[0;32m      4\u001b[0m \u001b[38;5;28;01mfor\u001b[39;00m action \u001b[38;5;129;01min\u001b[39;00m scheduler\u001b[38;5;241m.\u001b[39maction_table:\n\u001b[1;32m----> 5\u001b[0m     \u001b[38;5;28;01mif\u001b[39;00m \u001b[43maction\u001b[49m\u001b[43m[\u001b[49m\u001b[38;5;124;43m'\u001b[39;49m\u001b[38;5;124;43maction\u001b[39;49m\u001b[38;5;124;43m'\u001b[39;49m\u001b[43m]\u001b[49m \u001b[38;5;241m==\u001b[39m \u001b[38;5;124m'\u001b[39m\u001b[38;5;124mleave\u001b[39m\u001b[38;5;124m'\u001b[39m:\n\u001b[0;32m      6\u001b[0m         srcVehicle \u001b[38;5;241m=\u001b[39m [vehicle \u001b[38;5;28;01mfor\u001b[39;00m vehicle \u001b[38;5;129;01min\u001b[39;00m scheduler\u001b[38;5;241m.\u001b[39mvehicles \u001b[38;5;28;01mif\u001b[39;00m vehicle\u001b[38;5;241m.\u001b[39mID \u001b[38;5;241m==\u001b[39m action[\u001b[38;5;124m'\u001b[39m\u001b[38;5;124mvehicle_id\u001b[39m\u001b[38;5;124m'\u001b[39m]][\u001b[38;5;241m0\u001b[39m]\n\u001b[0;32m      7\u001b[0m         srcVehicle\u001b[38;5;241m.\u001b[39mtravel(action[\u001b[38;5;124m'\u001b[39m\u001b[38;5;124mdistance\u001b[39m\u001b[38;5;124m'\u001b[39m], action[\u001b[38;5;124m'\u001b[39m\u001b[38;5;124mend_time\u001b[39m\u001b[38;5;124m'\u001b[39m])\n",
      "\u001b[1;31mTypeError\u001b[0m: 'Action' object is not subscriptable"
     ]
    }
   ],
   "source": [
    "scheduler.printVehicles()\n",
    "from src.action import ActionType\n",
    "from vehicle import Vehicle\n",
    "\n",
    "cost = 0\n",
    "for action in scheduler.action_table:\n",
    "    if action.action_type == ActionType.START:\n",
    "        srcVehicle:Vehicle = scheduler.vehicles[action.schedule.VEHICLE_ID]\n",
    "        srcVehicle.travel(action.schedule.DISTANCE, action.time)\n",
    "    elif action.action_type == ActionType.END:\n",
    "        srcVehicle:Vehicle = scheduler.vehicles[action.schedule.VEHICLE_ID]\n",
    "        srcVehicle.returnStation()\n",
    "        \n",
    "\n",
    "scheduler.printVehicles()\n",
    "\n",
    "scheduler.stations[0].chargeVehicle(scheduler.vehicles[0], 10, 10000)\n",
    "scheduler.printVehicles()\n",
    "scheduler.printStations()\n",
    "\n",
    "scheduler.stations[0].finishCharge()\n",
    "scheduler.printVehicles()\n",
    "scheduler.printStations()\n"
   ]
  },
  {
   "cell_type": "code",
   "execution_count": null,
   "metadata": {},
   "outputs": [],
   "source": [
    "a = dict()\n",
    "a['1'] = 1\n",
    "a['2'] = 2\n",
    "a['3'] = 3\n",
    "\n",
    "for item in a.values():\n",
    "    print(item)"
   ]
  }
 ],
 "metadata": {
  "kernelspec": {
   "display_name": "Python 3",
   "language": "python",
   "name": "python3"
  },
  "language_info": {
   "codemirror_mode": {
    "name": "ipython",
    "version": 3
   },
   "file_extension": ".py",
   "mimetype": "text/x-python",
   "name": "python",
   "nbconvert_exporter": "python",
   "pygments_lexer": "ipython3",
   "version": "3.10.11"
  }
 },
 "nbformat": 4,
 "nbformat_minor": 2
}
