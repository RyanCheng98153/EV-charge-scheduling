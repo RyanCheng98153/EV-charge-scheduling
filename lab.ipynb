{
 "cells": [
  {
   "cell_type": "code",
   "execution_count": 1,
   "metadata": {},
   "outputs": [],
   "source": [
    "from src.scheduler import Scheduler, Schedule\n",
    "from src.vehicle import Vehicle\n",
    "from src.station import Station\n",
    "\n",
    "scheduler = Scheduler()\n",
    "scheduler.setVehicles([\n",
    "    Vehicle('bmw', 100000, 1000, 100000),\n",
    "    Vehicle('ford', 20000, 200, 20000),\n",
    "    Vehicle('honda', 30000, 300, 30000),\n",
    "    Vehicle('toyato', 40000, 400, 40000),\n",
    "    Vehicle('nissan', 50000, 500, 50000),\n",
    "])\n",
    "scheduler.setStations([\n",
    "    Station('s1', 100000, 10),\n",
    "    Station('s2', 200000, 20),\n",
    "    Station('s3', 300000, 30),\n",
    "])\n",
    "scheduler.setSchedules([\n",
    "    Schedule(0, 30, 'bmw', 10),\n",
    "    Schedule(70, 110, 'bmw', 10),\n",
    "    Schedule(20, 65, 'ford', 12),\n",
    "    Schedule(0, 40, 'toyato', 20),\n",
    "    Schedule(60, 75, 'toyato', 8),\n",
    "    Schedule(90, 105, 'toyato', 6),\n",
    "    Schedule(0, 20, 'honda', 6),\n",
    "    Schedule(40, 80, 'honda', 15),\n",
    "    Schedule(20, 70, 'nissan', 25),\n",
    "])\n",
    "\n",
    "scheduler.createActionTable()"
   ]
  },
  {
   "cell_type": "code",
   "execution_count": 2,
   "metadata": {},
   "outputs": [
    {
     "name": "stdout",
     "output_type": "stream",
     "text": [
      "[Schedule Table]\n",
      "start: 0     end: 20    vehicle: honda      distance: 6        finished: False\n",
      "start: 0     end: 30    vehicle: bmw        distance: 10       finished: False\n",
      "start: 0     end: 40    vehicle: toyato     distance: 20       finished: False\n",
      "start: 20    end: 65    vehicle: ford       distance: 12       finished: False\n",
      "start: 20    end: 70    vehicle: nissan     distance: 25       finished: False\n",
      "start: 40    end: 80    vehicle: honda      distance: 15       finished: False\n",
      "start: 60    end: 75    vehicle: toyato     distance: 8        finished: False\n",
      "start: 70    end: 110   vehicle: bmw        distance: 10       finished: False\n",
      "start: 90    end: 105   vehicle: toyato     distance: 6        finished: False\n",
      "\n",
      "[Action Table]\n",
      "time: 0     vehicle: honda      action: leave    distance: 6     end_time: 20   \n",
      "time: 0     vehicle: bmw        action: leave    distance: 10    end_time: 30   \n",
      "time: 0     vehicle: toyato     action: leave    distance: 20    end_time: 40   \n",
      "time: 20    vehicle: honda      action: return  \n",
      "time: 20    vehicle: ford       action: leave    distance: 12    end_time: 65   \n",
      "time: 20    vehicle: nissan     action: leave    distance: 25    end_time: 70   \n",
      "time: 30    vehicle: bmw        action: return  \n",
      "time: 40    vehicle: toyato     action: return  \n",
      "time: 40    vehicle: honda      action: leave    distance: 15    end_time: 80   \n",
      "time: 60    vehicle: toyato     action: leave    distance: 8     end_time: 75   \n",
      "time: 65    vehicle: ford       action: return  \n",
      "time: 70    vehicle: nissan     action: return  \n",
      "time: 70    vehicle: bmw        action: leave    distance: 10    end_time: 110  \n",
      "time: 75    vehicle: toyato     action: return  \n",
      "time: 80    vehicle: honda      action: return  \n",
      "time: 90    vehicle: toyato     action: leave    distance: 6     end_time: 105  \n",
      "time: 105   vehicle: toyato     action: return  \n",
      "time: 110   vehicle: bmw        action: return  \n",
      "\n"
     ]
    }
   ],
   "source": [
    "scheduler.printScheduleTable()\n",
    "scheduler.printActionTable()\n",
    "\n",
    "\n",
    "# print(scheduler.schedule_table)\n",
    "# for action in scheduler.action_table:\n",
    "#     print(action)\n",
    "# print(scheduler.action_table)"
   ]
  },
  {
   "cell_type": "code",
   "execution_count": 3,
   "metadata": {},
   "outputs": [
    {
     "name": "stdout",
     "output_type": "stream",
     "text": [
      "vehicle: bmw      state: IDLE       idle time: 0        battery: 100000   / 100000   (soc: 100)\n",
      "vehicle: ford     state: IDLE       idle time: 0        battery: 20000    / 20000    (soc: 100)\n",
      "vehicle: honda    state: IDLE       idle time: 0        battery: 30000    / 30000    (soc: 100)\n",
      "vehicle: toyato   state: IDLE       idle time: 0        battery: 40000    / 40000    (soc: 100)\n",
      "vehicle: nissan   state: IDLE       idle time: 0        battery: 50000    / 50000    (soc: 100)\n"
     ]
    }
   ],
   "source": [
    "for vehicle in scheduler.vehicles:\n",
    "    vehicle.printVehicleInfo()"
   ]
  },
  {
   "cell_type": "code",
   "execution_count": 4,
   "metadata": {},
   "outputs": [
    {
     "name": "stdout",
     "output_type": "stream",
     "text": [
      "[Vehicle]\n",
      "vehicle: bmw      state: IDLE       idle time: 0        battery: 100000   / 100000   (soc: 100)\n",
      "vehicle: ford     state: IDLE       idle time: 0        battery: 20000    / 20000    (soc: 100)\n",
      "vehicle: honda    state: IDLE       idle time: 0        battery: 30000    / 30000    (soc: 100)\n",
      "vehicle: toyato   state: IDLE       idle time: 0        battery: 40000    / 40000    (soc: 100)\n",
      "vehicle: nissan   state: IDLE       idle time: 0        battery: 50000    / 50000    (soc: 100)\n",
      "\n",
      "[Vehicle]\n",
      "vehicle: bmw      state: IDLE       idle time: 110      battery: 88000.0  / 100000   (soc: 0.88)\n",
      "vehicle: ford     state: IDLE       idle time: 65       battery: 18560.0  / 20000    (soc: 0.928)\n",
      "vehicle: honda    state: IDLE       idle time: 80       battery: 26220.0  / 30000    (soc: 0.874)\n",
      "vehicle: toyato   state: IDLE       idle time: 105      battery: 31840.0  / 40000    (soc: 0.796)\n",
      "vehicle: nissan   state: IDLE       idle time: 70       battery: 42500.0  / 50000    (soc: 0.85)\n",
      "\n",
      "[Vehicle]\n",
      "vehicle: bmw      state: CHARGING   idle time: 1010     battery: 98000.0  / 100000   (soc: 0.98)\n",
      "vehicle: ford     state: IDLE       idle time: 65       battery: 18560.0  / 20000    (soc: 0.928)\n",
      "vehicle: honda    state: IDLE       idle time: 80       battery: 26220.0  / 30000    (soc: 0.874)\n",
      "vehicle: toyato   state: IDLE       idle time: 105      battery: 31840.0  / 40000    (soc: 0.796)\n",
      "vehicle: nissan   state: IDLE       idle time: 70       battery: 42500.0  / 50000    (soc: 0.85)\n",
      "\n",
      "[Station]\n",
      "station: s1       state: CHARGING   idle time: 1010     vehicle: bmw      charge rate: 10\n",
      "station: s2       state: IDLE       idle time: 0        vehicle: None     charge rate: 20\n",
      "station: s3       state: IDLE       idle time: 0        vehicle: None     charge rate: 30\n",
      "\n",
      "[Vehicle]\n",
      "vehicle: bmw      state: IDLE       idle time: 1010     battery: 98000.0  / 100000   (soc: 0.98)\n",
      "vehicle: ford     state: IDLE       idle time: 65       battery: 18560.0  / 20000    (soc: 0.928)\n",
      "vehicle: honda    state: IDLE       idle time: 80       battery: 26220.0  / 30000    (soc: 0.874)\n",
      "vehicle: toyato   state: IDLE       idle time: 105      battery: 31840.0  / 40000    (soc: 0.796)\n",
      "vehicle: nissan   state: IDLE       idle time: 70       battery: 42500.0  / 50000    (soc: 0.85)\n",
      "\n",
      "[Station]\n",
      "station: s1       state: IDLE       idle time: 1010     vehicle: None     charge rate: 10\n",
      "station: s2       state: IDLE       idle time: 0        vehicle: None     charge rate: 20\n",
      "station: s3       state: IDLE       idle time: 0        vehicle: None     charge rate: 30\n",
      "\n"
     ]
    }
   ],
   "source": [
    "scheduler.printVehicles()\n",
    "\n",
    "cost = 0\n",
    "for action in scheduler.action_table:\n",
    "    if action['action'] == 'leave':\n",
    "        srcVehicle = [vehicle for vehicle in scheduler.vehicles if vehicle.ID == action['vehicle_id']][0]\n",
    "        srcVehicle.travel(action['distance'], action['end_time'])\n",
    "    elif action['action'] == 'return':\n",
    "        srcVehicle = [vehicle for vehicle in scheduler.vehicles if vehicle.ID == action['vehicle_id']][0]\n",
    "        srcVehicle.returnStation()\n",
    "        \n",
    "\n",
    "scheduler.printVehicles()\n",
    "\n",
    "scheduler.stations[0].chargeVehicle(scheduler.vehicles[0], 10, 10000)\n",
    "scheduler.printVehicles()\n",
    "scheduler.printStations()\n",
    "\n",
    "scheduler.stations[0].finishCharge()\n",
    "scheduler.printVehicles()\n",
    "scheduler.printStations()\n"
   ]
  },
  {
   "cell_type": "code",
   "execution_count": null,
   "metadata": {},
   "outputs": [],
   "source": []
  }
 ],
 "metadata": {
  "kernelspec": {
   "display_name": "Python 3",
   "language": "python",
   "name": "python3"
  },
  "language_info": {
   "codemirror_mode": {
    "name": "ipython",
    "version": 3
   },
   "file_extension": ".py",
   "mimetype": "text/x-python",
   "name": "python",
   "nbconvert_exporter": "python",
   "pygments_lexer": "ipython3",
   "version": "3.10.11"
  }
 },
 "nbformat": 4,
 "nbformat_minor": 2
}
