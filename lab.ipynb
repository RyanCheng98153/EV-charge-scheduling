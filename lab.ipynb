{
 "cells": [
  {
   "cell_type": "code",
   "execution_count": 1,
   "metadata": {},
   "outputs": [],
   "source": [
    "from src.scheduler import Scheduler, Schedule\n",
    "from src.vehicle import Vehicle\n",
    "from src.station import Station\n",
    "\n",
    "scheduler = Scheduler()\n",
    "scheduler.setVehicles([\n",
    "    Vehicle('bmw', 100000, 1000, 100000),\n",
    "    Vehicle('ford', 20000, 200, 20000),\n",
    "    Vehicle('honda', 30000, 300, 30000),\n",
    "    Vehicle('toyato', 40000, 400, 40000),\n",
    "    Vehicle('nissan', 50000, 500, 50000),\n",
    "])\n",
    "scheduler.setStations([\n",
    "    Station('s1', 100000, 10),\n",
    "    Station('s2', 200000, 20),\n",
    "    Station('s3', 300000, 30),\n",
    "])\n",
    "scheduler.setSchedules([\n",
    "    Schedule(0, 30, 'bmw', 10),\n",
    "    Schedule(70, 110, 'bmw', 10),\n",
    "    Schedule(20, 65, 'ford', 12),\n",
    "    Schedule(0, 40, 'toyato', 20),\n",
    "    Schedule(60, 75, 'toyato', 8),\n",
    "    Schedule(90, 105, 'toyato', 6),\n",
    "    Schedule(0, 20, 'honda', 6),\n",
    "    Schedule(40, 80, 'honda', 15),\n",
    "    Schedule(20, 70, 'nissan', 25),\n",
    "])\n",
    "\n",
    "scheduler.CreateActionTable()"
   ]
  },
  {
   "cell_type": "code",
   "execution_count": 2,
   "metadata": {},
   "outputs": [
    {
     "name": "stdout",
     "output_type": "stream",
     "text": [
      "[Schedule Table]\n",
      "start: 0     end: 20    vehicle: honda      distance: 6    \n",
      "start: 0     end: 30    vehicle: bmw        distance: 10   \n",
      "start: 0     end: 40    vehicle: toyato     distance: 20   \n",
      "start: 20    end: 65    vehicle: ford       distance: 12   \n",
      "start: 20    end: 70    vehicle: nissan     distance: 25   \n",
      "start: 40    end: 80    vehicle: honda      distance: 15   \n",
      "start: 60    end: 75    vehicle: toyato     distance: 8    \n",
      "start: 70    end: 110   vehicle: bmw        distance: 10   \n",
      "start: 90    end: 105   vehicle: toyato     distance: 6    \n",
      "\n",
      "[Action Table]\n",
      "time: 0     vehicle: honda      distance: -1   \n",
      "time: 0     vehicle: bmw        distance: -1   \n",
      "time: 0     vehicle: toyato     distance: -1   \n",
      "time: 20    vehicle: honda      distance: 6    \n",
      "time: 20    vehicle: ford       distance: -1   \n",
      "time: 20    vehicle: nissan     distance: -1   \n",
      "time: 30    vehicle: bmw        distance: 10   \n",
      "time: 40    vehicle: toyato     distance: 20   \n",
      "time: 40    vehicle: honda      distance: -1   \n",
      "time: 60    vehicle: toyato     distance: -1   \n",
      "time: 65    vehicle: ford       distance: 12   \n",
      "time: 70    vehicle: nissan     distance: 25   \n",
      "time: 70    vehicle: bmw        distance: -1   \n",
      "time: 75    vehicle: toyato     distance: 8    \n",
      "time: 80    vehicle: honda      distance: 15   \n",
      "time: 90    vehicle: toyato     distance: -1   \n",
      "time: 105   vehicle: toyato     distance: 6    \n",
      "time: 110   vehicle: bmw        distance: 10   \n",
      "\n"
     ]
    }
   ],
   "source": [
    "scheduler.PrintScheduleTable()\n",
    "scheduler.PrintActionTable()\n",
    "\n",
    "# print(scheduler.schedule_table)\n",
    "# for action in scheduler.action_table:\n",
    "#     print(action)\n",
    "# print(scheduler.action_table)"
   ]
  },
  {
   "cell_type": "code",
   "execution_count": 3,
   "metadata": {},
   "outputs": [
    {
     "name": "stdout",
     "output_type": "stream",
     "text": [
      "vehicle: bmw      state: IDLE       battery: 100000 / 100000 (soc: 100 )\n",
      "vehicle: ford     state: IDLE       battery: 20000 / 20000 (soc: 100 )\n",
      "vehicle: honda    state: IDLE       battery: 30000 / 30000 (soc: 100 )\n",
      "vehicle: toyato   state: IDLE       battery: 40000 / 40000 (soc: 100 )\n",
      "vehicle: nissan   state: IDLE       battery: 50000 / 50000 (soc: 100 )\n"
     ]
    }
   ],
   "source": [
    "for vehicle in scheduler.vehicles:\n",
    "    vehicle.printVehicleInfo()"
   ]
  },
  {
   "cell_type": "code",
   "execution_count": 4,
   "metadata": {},
   "outputs": [
    {
     "name": "stdout",
     "output_type": "stream",
     "text": [
      "[Vehicle]\n",
      "vehicle: bmw      state: IDLE       battery: 100000 / 100000 (soc: 100 )\n",
      "vehicle: ford     state: IDLE       battery: 20000 / 20000 (soc: 100 )\n",
      "vehicle: honda    state: IDLE       battery: 30000 / 30000 (soc: 100 )\n",
      "vehicle: toyato   state: IDLE       battery: 40000 / 40000 (soc: 100 )\n",
      "vehicle: nissan   state: IDLE       battery: 50000 / 50000 (soc: 100 )\n",
      "\n",
      "[Vehicle]\n",
      "vehicle: bmw      state: TRAVEL     battery: 88000.0 / 100000 (soc: 0.88)\n",
      "vehicle: ford     state: TRAVEL     battery: 18560.0 / 20000 (soc: 0.928)\n",
      "vehicle: honda    state: TRAVEL     battery: 26220.0 / 30000 (soc: 0.874)\n",
      "vehicle: toyato   state: TRAVEL     battery: 31840.0 / 40000 (soc: 0.796)\n",
      "vehicle: nissan   state: TRAVEL     battery: 42500.0 / 50000 (soc: 0.85)\n",
      "\n",
      "[Vehicle]\n",
      "vehicle: bmw      state: CHARGING   battery: 88100.0 / 100000 (soc: 0.881)\n",
      "vehicle: ford     state: TRAVEL     battery: 18560.0 / 20000 (soc: 0.928)\n",
      "vehicle: honda    state: TRAVEL     battery: 26220.0 / 30000 (soc: 0.874)\n",
      "vehicle: toyato   state: TRAVEL     battery: 31840.0 / 40000 (soc: 0.796)\n",
      "vehicle: nissan   state: TRAVEL     battery: 42500.0 / 50000 (soc: 0.85)\n",
      "\n",
      "[Station]\n",
      "station: s1       state: CHARGING   vehicle: bmw      charge rate: 10\n",
      "station: s2       state: IDLE       vehicle: None     charge rate: 20\n",
      "station: s3       state: IDLE       vehicle: None     charge rate: 30\n",
      "\n"
     ]
    }
   ],
   "source": [
    "\n",
    "scheduler.PrintVehicles()\n",
    "\n",
    "cost = 0\n",
    "for action in scheduler.action_table:\n",
    "    if action['distance'] != -1:\n",
    "        srcVehicle = [vehicle for vehicle in scheduler.vehicles if vehicle.ID == action['vehicle_id']][0]\n",
    "        srcVehicle.travel(action['distance'])\n",
    "\n",
    "scheduler.PrintVehicles()\n",
    "    \n",
    "scheduler.stations[0].chargeVehicle(scheduler.vehicles[0], 10, 100)\n",
    "\n",
    "scheduler.PrintVehicles()\n",
    "scheduler.PrintStations()"
   ]
  },
  {
   "cell_type": "code",
   "execution_count": null,
   "metadata": {},
   "outputs": [],
   "source": []
  }
 ],
 "metadata": {
  "kernelspec": {
   "display_name": "Python 3",
   "language": "python",
   "name": "python3"
  },
  "language_info": {
   "codemirror_mode": {
    "name": "ipython",
    "version": 3
   },
   "file_extension": ".py",
   "mimetype": "text/x-python",
   "name": "python",
   "nbconvert_exporter": "python",
   "pygments_lexer": "ipython3",
   "version": "3.10.11"
  }
 },
 "nbformat": 4,
 "nbformat_minor": 2
}
